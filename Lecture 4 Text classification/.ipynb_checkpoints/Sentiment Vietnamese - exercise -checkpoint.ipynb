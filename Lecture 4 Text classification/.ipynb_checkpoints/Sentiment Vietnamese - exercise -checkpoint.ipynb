{
 "cells": [
  {
   "cell_type": "code",
   "execution_count": 1,
   "metadata": {},
   "outputs": [],
   "source": [
    "import pandas as pd"
   ]
  },
  {
   "cell_type": "code",
   "execution_count": null,
   "metadata": {},
   "outputs": [],
   "source": [
    "# thực hiện tiếp các nhiệm vụ sau:\n",
    "# \n",
    "#  lựa chọn đặc trưng 1-gram, 2-gram\n",
    "# convert sang vector với trọng số ở các mode: binary, count, tfidf \n",
    "# chia thành tập Train và Test \n",
    "# xây dựng các mô hình học: NB, SVM, Neural Network \n",
    "# chọn mô hình tốt nhất và viết hàm dự đoán sentiment của một câu đưa vào"
   ]
  },
  {
   "cell_type": "code",
   "execution_count": 3,
   "metadata": {},
   "outputs": [
    {
     "name": "stdout",
     "output_type": "stream",
     "text": [
      "   Unnamed: 0                                       comment label\n",
      "0           0                         áo bao đẹp ạ positive   POS\n",
      "1           1                            tuyệt vời positive   POS\n",
      "2           2                     2day ao không giong trong   NEG\n",
      "3           3  mùi thơm bôi lên da mềm da nagative positive   POS\n",
      "4           4                      vải đẹp dày dặn positive   POS\n",
      "(31460, 3)\n"
     ]
    }
   ],
   "source": [
    "filename = 'sentimentVN.csv'\n",
    "df = pd.read_csv(filename)\n",
    "print(df.head(5))\n",
    "print(df.shape)"
   ]
  },
  {
   "cell_type": "code",
   "execution_count": 13,
   "metadata": {},
   "outputs": [
    {
     "name": "stdout",
     "output_type": "stream",
     "text": [
      "Counter({'POS': 20093, 'NEG': 6669, 'NEU': 4698})\n",
      "['áo bao đẹp ạ positive' 'tuyệt vời positive' '2day ao không giong trong'\n",
      " 'mùi thơm bôi lên da mềm da nagative positive' 'vải đẹp dày dặn positive']\n"
     ]
    }
   ],
   "source": [
    "from collections import Counter \n",
    "counter = Counter()\n",
    "labels = df['label']\n",
    "reviews = df.values[:,1] \n",
    "counter.update(labels)\n",
    "print(counter)\n",
    "print(reviews[:5])"
   ]
  },
  {
   "cell_type": "code",
   "execution_count": 11,
   "metadata": {},
   "outputs": [
    {
     "data": {
      "text/plain": [
       "<BarContainer object of 3 artists>"
      ]
     },
     "execution_count": 11,
     "metadata": {},
     "output_type": "execute_result"
    },
    {
     "data": {
      "image/png": "[encoded data removed]",
      "text/plain": [
       "<Figure size 432x288 with 1 Axes>"
      ]
     },
     "metadata": {
      "needs_background": "light"
     },
     "output_type": "display_data"
    }
   ],
   "source": [
    "import matplotlib.pyplot as plt\n",
    "plt.bar(counter.keys(),counter.values())"
   ]
  }
 ],
 "metadata": {
  "kernelspec": {
   "display_name": "Python 3",
   "language": "python",
   "name": "python3"
  },
  "language_info": {
   "codemirror_mode": {
    "name": "ipython",
    "version": 3
   },
   "file_extension": ".py",
   "mimetype": "text/x-python",
   "name": "python",
   "nbconvert_exporter": "python",
   "pygments_lexer": "ipython3",
   "version": "3.8.3"
  }
 },
 "nbformat": 4,
 "nbformat_minor": 2
}
