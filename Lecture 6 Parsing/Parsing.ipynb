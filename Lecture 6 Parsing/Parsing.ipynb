{
  "nbformat": 4,
  "nbformat_minor": 0,
  "metadata": {
    "kernelspec": {
      "display_name": "Python 3",
      "language": "python",
      "name": "python3"
    },
    "language_info": {
      "codemirror_mode": {
        "name": "ipython",
        "version": 3
      },
      "file_extension": ".py",
      "mimetype": "text/x-python",
      "name": "python",
      "nbconvert_exporter": "python",
      "pygments_lexer": "ipython3",
      "version": "3.7.3"
    },
    "colab": {
      "name": "Parsing.ipynb",
      "provenance": [],
      "include_colab_link": true
    }
  },
  "cells": [
    {
      "cell_type": "markdown",
      "metadata": {
        "id": "view-in-github",
        "colab_type": "text"
      },
      "source": [
        "<a href=\"https://colab.research.google.com/github/nthanhkhang/Natural-Language-Processing/blob/main/Parsing.ipynb\" target=\"_parent\"><img src=\"https://colab.research.google.com/assets/colab-badge.svg\" alt=\"Open In Colab\"/></a>"
      ]
    },
    {
      "cell_type": "markdown",
      "metadata": {
        "id": "nQBHTOaWCT8D"
      },
      "source": [
        "#Tìm cách sử dụng parser của Stanford NLP tools \r\n",
        "\r\n",
        "#https://www.analyticsvidhya.com/blog/2019/02/stanfordnlp-nlp-library-python/\r\n",
        "\r\n",
        "#Nhập vào 1 câu và in ra cây cú pháp của câu đó."
      ]
    },
    {
      "cell_type": "markdown",
      "metadata": {
        "id": "pbBwYjVC-wB0"
      },
      "source": [
        "# Ensure that your java version >= 1.8"
      ]
    },
    {
      "cell_type": "code",
      "metadata": {
        "colab": {
          "base_uri": "https://localhost:8080/"
        },
        "id": "DmG1SUjB-wB5",
        "outputId": "2ffa39cf-6293-4c3c-a4dd-ac7ae693fe26"
      },
      "source": [
        "!java -version"
      ],
      "execution_count": 28,
      "outputs": [
        {
          "output_type": "stream",
          "text": [
            "openjdk version \"11.0.10\" 2021-01-19\n",
            "OpenJDK Runtime Environment (build 11.0.10+9-Ubuntu-0ubuntu1.18.04)\n",
            "OpenJDK 64-Bit Server VM (build 11.0.10+9-Ubuntu-0ubuntu1.18.04, mixed mode, sharing)\n"
          ],
          "name": "stdout"
        }
      ]
    },
    {
      "cell_type": "markdown",
      "metadata": {
        "id": "lNSriRf8-wB9"
      },
      "source": [
        "# Downloading Stanford CoreNLP (375mb, quite heavy) and unzip it"
      ]
    },
    {
      "cell_type": "code",
      "metadata": {
        "colab": {
          "base_uri": "https://localhost:8080/"
        },
        "id": "lPiREn4x-wB-",
        "outputId": "5b1ab7a8-9ad5-4103-8c45-5879157517a6"
      },
      "source": [
        "!wget http://nlp.stanford.edu/software/stanford-corenlp-full-2018-10-05.zip"
      ],
      "execution_count": 29,
      "outputs": [
        {
          "output_type": "stream",
          "text": [
            "--2021-02-23 13:18:01--  http://nlp.stanford.edu/software/stanford-corenlp-full-2018-10-05.zip\n",
            "Resolving nlp.stanford.edu (nlp.stanford.edu)... 171.64.67.140\n",
            "Connecting to nlp.stanford.edu (nlp.stanford.edu)|171.64.67.140|:80... connected.\n",
            "HTTP request sent, awaiting response... 302 Found\n",
            "Location: https://nlp.stanford.edu/software/stanford-corenlp-full-2018-10-05.zip [following]\n",
            "--2021-02-23 13:18:02--  https://nlp.stanford.edu/software/stanford-corenlp-full-2018-10-05.zip\n",
            "Connecting to nlp.stanford.edu (nlp.stanford.edu)|171.64.67.140|:443... connected.\n",
            "HTTP request sent, awaiting response... 200 OK\n",
            "Length: 393239982 (375M) [application/zip]\n",
            "Saving to: ‘stanford-corenlp-full-2018-10-05.zip.2’\n",
            "\n",
            "stanford-corenlp-fu 100%[===================>] 375.02M  6.77MB/s    in 3m 23s  \n",
            "\n",
            "2021-02-23 13:21:25 (1.85 MB/s) - ‘stanford-corenlp-full-2018-10-05.zip.2’ saved [393239982/393239982]\n",
            "\n"
          ],
          "name": "stdout"
        }
      ]
    },
    {
      "cell_type": "code",
      "metadata": {
        "collapsed": true,
        "colab": {
          "base_uri": "https://localhost:8080/"
        },
        "id": "WgannEuV-wB-",
        "outputId": "5b1121f6-e8df-4ac7-ba43-bae10063ab0f"
      },
      "source": [
        "!unzip stanford-corenlp-full-2018-10-05.zip -d ./ && mv ./stanford-corenlp-full-2018-10-05 ./corenlp"
      ],
      "execution_count": 30,
      "outputs": [
        {
          "output_type": "stream",
          "text": [
            "Archive:  stanford-corenlp-full-2018-10-05.zip\n",
            "   creating: ./stanford-corenlp-full-2018-10-05/\n",
            "  inflating: ./stanford-corenlp-full-2018-10-05/jaxb-core-2.3.0.1-sources.jar  \n",
            "  inflating: ./stanford-corenlp-full-2018-10-05/xom-1.2.10-src.jar  \n",
            "  inflating: ./stanford-corenlp-full-2018-10-05/CoreNLP-to-HTML.xsl  \n",
            "  inflating: ./stanford-corenlp-full-2018-10-05/README.txt  \n",
            "  inflating: ./stanford-corenlp-full-2018-10-05/jollyday-0.4.9-sources.jar  \n",
            "  inflating: ./stanford-corenlp-full-2018-10-05/LIBRARY-LICENSES  \n",
            "   creating: ./stanford-corenlp-full-2018-10-05/sutime/\n",
            "  inflating: ./stanford-corenlp-full-2018-10-05/sutime/british.sutime.txt  \n",
            "  inflating: ./stanford-corenlp-full-2018-10-05/sutime/defs.sutime.txt  \n",
            "  inflating: ./stanford-corenlp-full-2018-10-05/sutime/spanish.sutime.txt  \n",
            "  inflating: ./stanford-corenlp-full-2018-10-05/sutime/english.sutime.txt  \n",
            "  inflating: ./stanford-corenlp-full-2018-10-05/sutime/english.holidays.sutime.txt  \n",
            " extracting: ./stanford-corenlp-full-2018-10-05/ejml-0.23-src.zip  \n",
            "  inflating: ./stanford-corenlp-full-2018-10-05/input.txt.xml  \n",
            "  inflating: ./stanford-corenlp-full-2018-10-05/build.xml  \n",
            "  inflating: ./stanford-corenlp-full-2018-10-05/pom.xml  \n",
            "  inflating: ./stanford-corenlp-full-2018-10-05/stanford-corenlp-3.9.2-javadoc.jar  \n",
            "   creating: ./stanford-corenlp-full-2018-10-05/tokensregex/\n",
            "  inflating: ./stanford-corenlp-full-2018-10-05/tokensregex/color.input.txt  \n",
            "  inflating: ./stanford-corenlp-full-2018-10-05/tokensregex/retokenize.txt  \n",
            "  inflating: ./stanford-corenlp-full-2018-10-05/tokensregex/color.properties  \n",
            "  inflating: ./stanford-corenlp-full-2018-10-05/tokensregex/color.rules.txt  \n",
            "  inflating: ./stanford-corenlp-full-2018-10-05/javax.json-api-1.0-sources.jar  \n",
            "  inflating: ./stanford-corenlp-full-2018-10-05/jaxb-api-2.4.0-b180830.0359-sources.jar  \n",
            "  inflating: ./stanford-corenlp-full-2018-10-05/stanford-corenlp-3.9.2-models.jar  \n",
            "  inflating: ./stanford-corenlp-full-2018-10-05/protobuf.jar  \n",
            "  inflating: ./stanford-corenlp-full-2018-10-05/javax.activation-api-1.2.0.jar  \n",
            "  inflating: ./stanford-corenlp-full-2018-10-05/StanfordDependenciesManual.pdf  \n",
            "   creating: ./stanford-corenlp-full-2018-10-05/patterns/\n",
            "  inflating: ./stanford-corenlp-full-2018-10-05/patterns/example.properties  \n",
            " extracting: ./stanford-corenlp-full-2018-10-05/patterns/otherpeople.txt  \n",
            " extracting: ./stanford-corenlp-full-2018-10-05/patterns/goldplaces.txt  \n",
            "  inflating: ./stanford-corenlp-full-2018-10-05/patterns/stopwords.txt  \n",
            "  inflating: ./stanford-corenlp-full-2018-10-05/patterns/presidents.txt  \n",
            "  inflating: ./stanford-corenlp-full-2018-10-05/patterns/names.txt  \n",
            " extracting: ./stanford-corenlp-full-2018-10-05/patterns/places.txt  \n",
            "  inflating: ./stanford-corenlp-full-2018-10-05/patterns/goldnames.txt  \n",
            "  inflating: ./stanford-corenlp-full-2018-10-05/slf4j-simple.jar  \n",
            "  inflating: ./stanford-corenlp-full-2018-10-05/stanford-corenlp-3.9.2-sources.jar  \n",
            "  inflating: ./stanford-corenlp-full-2018-10-05/input.txt  \n",
            "  inflating: ./stanford-corenlp-full-2018-10-05/joda-time.jar  \n",
            "  inflating: ./stanford-corenlp-full-2018-10-05/xom.jar  \n",
            "  inflating: ./stanford-corenlp-full-2018-10-05/jaxb-impl-2.4.0-b180830.0438-sources.jar  \n",
            "  inflating: ./stanford-corenlp-full-2018-10-05/StanfordCoreNlpDemo.java  \n",
            "  inflating: ./stanford-corenlp-full-2018-10-05/jaxb-core-2.3.0.1.jar  \n",
            "  inflating: ./stanford-corenlp-full-2018-10-05/RESOURCE-LICENSES  \n",
            "  inflating: ./stanford-corenlp-full-2018-10-05/javax.activation-api-1.2.0-sources.jar  \n",
            "  inflating: ./stanford-corenlp-full-2018-10-05/slf4j-api.jar  \n",
            "  inflating: ./stanford-corenlp-full-2018-10-05/pom-java-11.xml  \n",
            "  inflating: ./stanford-corenlp-full-2018-10-05/ejml-0.23.jar  \n",
            "  inflating: ./stanford-corenlp-full-2018-10-05/javax.json.jar  \n",
            "  inflating: ./stanford-corenlp-full-2018-10-05/Makefile  \n",
            "  inflating: ./stanford-corenlp-full-2018-10-05/corenlp.sh  \n",
            "  inflating: ./stanford-corenlp-full-2018-10-05/joda-time-2.9-sources.jar  \n",
            "  inflating: ./stanford-corenlp-full-2018-10-05/jaxb-api-2.4.0-b180830.0359.jar  \n",
            "  inflating: ./stanford-corenlp-full-2018-10-05/jollyday.jar  \n",
            "  inflating: ./stanford-corenlp-full-2018-10-05/ShiftReduceDemo.java  \n",
            "  inflating: ./stanford-corenlp-full-2018-10-05/jaxb-impl-2.4.0-b180830.0438.jar  \n",
            "  inflating: ./stanford-corenlp-full-2018-10-05/stanford-corenlp-3.9.2.jar  \n",
            "  inflating: ./stanford-corenlp-full-2018-10-05/SemgrexDemo.java  \n",
            "  inflating: ./stanford-corenlp-full-2018-10-05/LICENSE.txt  \n",
            "mv: cannot move './stanford-corenlp-full-2018-10-05' to './corenlp/stanford-corenlp-full-2018-10-05': Directory not empty\n"
          ],
          "name": "stdout"
        }
      ]
    },
    {
      "cell_type": "markdown",
      "metadata": {
        "id": "xQBkyYH1-wB_"
      },
      "source": [
        "# Launch corenlp server in background"
      ]
    },
    {
      "cell_type": "code",
      "metadata": {
        "colab": {
          "base_uri": "https://localhost:8080/"
        },
        "id": "L97JyBN--wB_",
        "outputId": "922d7dd5-f025-45a7-d1e7-a9e1e1925b29"
      },
      "source": [
        "import os\n",
        "os.system('cd ./corenlp/ && java -mx4g -cp \"*\" edu.stanford.nlp.pipeline.StanfordCoreNLPServer -port 9000 -timeout 15000 &')"
      ],
      "execution_count": 31,
      "outputs": [
        {
          "output_type": "execute_result",
          "data": {
            "text/plain": [
              "0"
            ]
          },
          "metadata": {
            "tags": []
          },
          "execution_count": 31
        }
      ]
    },
    {
      "cell_type": "markdown",
      "metadata": {
        "id": "j_76eXnu-wCA"
      },
      "source": [
        "# Test if it works (should return some json)"
      ]
    },
    {
      "cell_type": "code",
      "metadata": {
        "collapsed": true,
        "colab": {
          "base_uri": "https://localhost:8080/"
        },
        "id": "wUc4dzu_-wCA",
        "outputId": "3ccf8fbb-580e-411a-b233-65b9c4d3615d"
      },
      "source": [
        "!curl --data 'The quick brown fox jumped over the lazy dog.' 'http://corenlp.run/?properties={%22annotators%22%3A%22tokenize%2Cssplit%2Cpos%22%2C%22outputFormat%22%3A%22json%22}' -o -"
      ],
      "execution_count": 32,
      "outputs": [
        {
          "output_type": "stream",
          "text": [
            "{\n",
            "  \"sentences\": [\n",
            "    {\n",
            "      \"index\": 0,\n",
            "      \"tokens\": [\n",
            "        {\n",
            "          \"index\": 1,\n",
            "          \"word\": \"The\",\n",
            "          \"originalText\": \"The\",\n",
            "          \"characterOffsetBegin\": 0,\n",
            "          \"characterOffsetEnd\": 3,\n",
            "          \"pos\": \"DT\",\n",
            "          \"before\": \"\",\n",
            "          \"after\": \" \"\n",
            "        },\n",
            "        {\n",
            "          \"index\": 2,\n",
            "          \"word\": \"quick\",\n",
            "          \"originalText\": \"quick\",\n",
            "          \"characterOffsetBegin\": 4,\n",
            "          \"characterOffsetEnd\": 9,\n",
            "          \"pos\": \"JJ\",\n",
            "          \"before\": \" \",\n",
            "          \"after\": \" \"\n",
            "        },\n",
            "        {\n",
            "          \"index\": 3,\n",
            "          \"word\": \"brown\",\n",
            "          \"originalText\": \"brown\",\n",
            "          \"characterOffsetBegin\": 10,\n",
            "          \"characterOffsetEnd\": 15,\n",
            "          \"pos\": \"JJ\",\n",
            "          \"before\": \" \",\n",
            "          \"after\": \" \"\n",
            "        },\n",
            "        {\n",
            "          \"index\": 4,\n",
            "          \"word\": \"fox\",\n",
            "          \"originalText\": \"fox\",\n",
            "          \"characterOffsetBegin\": 16,\n",
            "          \"characterOffsetEnd\": 19,\n",
            "          \"pos\": \"NN\",\n",
            "          \"before\": \" \",\n",
            "          \"after\": \" \"\n",
            "        },\n",
            "        {\n",
            "          \"index\": 5,\n",
            "          \"word\": \"jumped\",\n",
            "          \"originalText\": \"jumped\",\n",
            "          \"characterOffsetBegin\": 20,\n",
            "          \"characterOffsetEnd\": 26,\n",
            "          \"pos\": \"VBD\",\n",
            "          \"before\": \" \",\n",
            "          \"after\": \" \"\n",
            "        },\n",
            "        {\n",
            "          \"index\": 6,\n",
            "          \"word\": \"over\",\n",
            "          \"originalText\": \"over\",\n",
            "          \"characterOffsetBegin\": 27,\n",
            "          \"characterOffsetEnd\": 31,\n",
            "          \"pos\": \"IN\",\n",
            "          \"before\": \" \",\n",
            "          \"after\": \" \"\n",
            "        },\n",
            "        {\n",
            "          \"index\": 7,\n",
            "          \"word\": \"the\",\n",
            "          \"originalText\": \"the\",\n",
            "          \"characterOffsetBegin\": 32,\n",
            "          \"characterOffsetEnd\": 35,\n",
            "          \"pos\": \"DT\",\n",
            "          \"before\": \" \",\n",
            "          \"after\": \" \"\n",
            "        },\n",
            "        {\n",
            "          \"index\": 8,\n",
            "          \"word\": \"lazy\",\n",
            "          \"originalText\": \"lazy\",\n",
            "          \"characterOffsetBegin\": 36,\n",
            "          \"characterOffsetEnd\": 40,\n",
            "          \"pos\": \"JJ\",\n",
            "          \"before\": \" \",\n",
            "          \"after\": \" \"\n",
            "        },\n",
            "        {\n",
            "          \"index\": 9,\n",
            "          \"word\": \"dog\",\n",
            "          \"originalText\": \"dog\",\n",
            "          \"characterOffsetBegin\": 41,\n",
            "          \"characterOffsetEnd\": 44,\n",
            "          \"pos\": \"NN\",\n",
            "          \"before\": \" \",\n",
            "          \"after\": \"\"\n",
            "        },\n",
            "        {\n",
            "          \"index\": 10,\n",
            "          \"word\": \".\",\n",
            "          \"originalText\": \".\",\n",
            "          \"characterOffsetBegin\": 44,\n",
            "          \"characterOffsetEnd\": 45,\n",
            "          \"pos\": \".\",\n",
            "          \"before\": \"\",\n",
            "          \"after\": \"\"\n",
            "        }\n",
            "      ]\n",
            "    }\n",
            "  ]\n",
            "}\n"
          ],
          "name": "stdout"
        }
      ]
    },
    {
      "cell_type": "markdown",
      "metadata": {
        "id": "4VpTRkS4-wCB"
      },
      "source": [
        "# Installing Py-CoreNLP lib"
      ]
    },
    {
      "cell_type": "code",
      "metadata": {
        "colab": {
          "base_uri": "https://localhost:8080/"
        },
        "id": "1Mvijg0--wCB",
        "outputId": "2704c93b-aaa6-44a4-d6da-0e7f1315b9af"
      },
      "source": [
        "!pip install pycorenlp"
      ],
      "execution_count": 33,
      "outputs": [
        {
          "output_type": "stream",
          "text": [
            "Requirement already satisfied: pycorenlp in /usr/local/lib/python3.6/dist-packages (0.3.0)\n",
            "Requirement already satisfied: requests in /usr/local/lib/python3.6/dist-packages (from pycorenlp) (2.23.0)\n",
            "Requirement already satisfied: chardet<4,>=3.0.2 in /usr/local/lib/python3.6/dist-packages (from requests->pycorenlp) (3.0.4)\n",
            "Requirement already satisfied: certifi>=2017.4.17 in /usr/local/lib/python3.6/dist-packages (from requests->pycorenlp) (2020.12.5)\n",
            "Requirement already satisfied: idna<3,>=2.5 in /usr/local/lib/python3.6/dist-packages (from requests->pycorenlp) (2.10)\n",
            "Requirement already satisfied: urllib3!=1.25.0,!=1.25.1,<1.26,>=1.21.1 in /usr/local/lib/python3.6/dist-packages (from requests->pycorenlp) (1.24.3)\n"
          ],
          "name": "stdout"
        }
      ]
    },
    {
      "cell_type": "code",
      "metadata": {
        "id": "9t2j15So-wCC"
      },
      "source": [
        "from pycorenlp import StanfordCoreNLP\n",
        "from pprint import pprint"
      ],
      "execution_count": 34,
      "outputs": []
    },
    {
      "cell_type": "code",
      "metadata": {
        "id": "HIEfWhV8-wCC"
      },
      "source": [
        "nlp = StanfordCoreNLP('http://corenlp.run/')"
      ],
      "execution_count": 35,
      "outputs": []
    },
    {
      "cell_type": "code",
      "metadata": {
        "id": "JLS8tzBm-wCC"
      },
      "source": [
        "text = ('Pusheen and Smitha walked along the beach. '\n",
        "        'Pusheen wanted to surf, but fell off the surfboard. '\n",
        "        'The quick brown fox jumped over the lazy dog. '\n",
        "        'Barack Obama was born in Hawaii.  '\n",
        "        'He was elected president in 2008. ')\n",
        "output = nlp.annotate(text, properties = {\n",
        "  'annotators': 'tokenize,ssplit,pos,depparse,natlog,openie',\n",
        "  'outputFormat': 'json'\n",
        "})"
      ],
      "execution_count": 36,
      "outputs": []
    },
    {
      "cell_type": "code",
      "metadata": {
        "colab": {
          "base_uri": "https://localhost:8080/"
        },
        "id": "nvqqQSRA-wCD",
        "outputId": "6f07529f-1eb9-4deb-d32f-165a69c69b0f"
      },
      "source": [
        "for sentence in output['sentences']:\n",
        "    print(\"=\"*50)\n",
        "    print(f\"Sentence: {' '.join([x['word'] for x in sentence['tokens']])}\")\n",
        "    print(\"-\"*20)\n",
        "    print(\"IE triplets:\")\n",
        "    print(\"-\"*20)\n",
        "    for triplet in sentence['openie']:\n",
        "        print(f\"{triplet['subject']:^20} -> {triplet['relation']:^14} -> {triplet['object']}\")"
      ],
      "execution_count": 37,
      "outputs": [
        {
          "output_type": "stream",
          "text": [
            "==================================================\n",
            "Sentence: Pusheen and Smitha walked along the beach .\n",
            "--------------------\n",
            "IE triplets:\n",
            "--------------------\n",
            "      Pusheen        ->  walked along  -> beach\n",
            "       Smitha        ->  walked along  -> beach\n",
            "==================================================\n",
            "Sentence: Pusheen wanted to surf , but fell off the surfboard .\n",
            "--------------------\n",
            "IE triplets:\n",
            "--------------------\n",
            "      Pusheen        ->    fell off    -> surfboard\n",
            "==================================================\n",
            "Sentence: The quick brown fox jumped over the lazy dog .\n",
            "--------------------\n",
            "IE triplets:\n",
            "--------------------\n",
            "  quick brown fox    ->  jumped over   -> lazy dog\n",
            "        fox          ->  jumped over   -> dog\n",
            "  quick brown fox    ->  jumped over   -> dog\n",
            "     quick fox       ->  jumped over   -> dog\n",
            "     brown fox       ->  jumped over   -> lazy dog\n",
            "     brown fox       ->  jumped over   -> dog\n",
            "     quick fox       ->  jumped over   -> lazy dog\n",
            "        fox          ->  jumped over   -> lazy dog\n",
            "==================================================\n",
            "Sentence: Barack Obama was born in Hawaii .\n",
            "--------------------\n",
            "IE triplets:\n",
            "--------------------\n",
            "    Barack Obama     ->      was       -> born\n",
            "    Barack Obama     ->  was born in   -> Hawaii\n",
            "==================================================\n",
            "Sentence: He was elected president in 2008 .\n",
            "--------------------\n",
            "IE triplets:\n",
            "--------------------\n",
            "         He          ->  was elected   -> president\n",
            "         He          -> was elected president in -> 2008\n"
          ],
          "name": "stdout"
        }
      ]
    }
  ]
}