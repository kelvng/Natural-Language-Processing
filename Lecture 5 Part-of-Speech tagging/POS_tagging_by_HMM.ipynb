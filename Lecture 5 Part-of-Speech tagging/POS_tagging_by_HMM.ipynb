{
 "cells": [
  {
   "cell_type": "markdown",
   "metadata": {
    "colab_type": "text",
    "id": "view-in-github"
   },
   "source": [
    "<a href=\"https://colab.research.google.com/github/nthanhkhang/Natural-Language-Processing/blob/main/POS_tagging_by_HMM.ipynb\" target=\"_parent\"><img src=\"https://colab.research.google.com/assets/colab-badge.svg\" alt=\"Open In Colab\"/></a>"
   ]
  },
  {
   "cell_type": "markdown",
   "metadata": {
    "id": "xP-kr1g-V7BR"
   },
   "source": [
    "# Importing libraries"
   ]
  },
  {
   "cell_type": "code",
   "execution_count": 1,
   "metadata": {
    "id": "m2FGLPx4V-rs",
    "pycharm": {
     "is_executing": true
    }
   },
   "outputs": [],
   "source": [
    "import nltk\n",
    "import numpy as np\n",
    "import pandas as pd\n",
    "import random\n",
    "from sklearn.model_selection import train_test_split\n",
    "import pprint, time"
   ]
  },
  {
   "cell_type": "code",
   "execution_count": 2,
   "metadata": {
    "colab": {
     "base_uri": "https://localhost:8080/"
    },
    "id": "fWqKZyDBTLU2",
    "outputId": "721c6e41-cb71-4a90-b454-fb03a9e125fc",
    "pycharm": {
     "is_executing": true
    }
   },
   "outputs": [
    {
     "output_type": "stream",
     "name": "stderr",
     "text": [
      "[nltk_data] Downloading package treebank to\n",
      "[nltk_data]     C:\\Users\\nguyn\\AppData\\Roaming\\nltk_data...\n",
      "[nltk_data]   Package treebank is already up-to-date!\n",
      "[nltk_data] Downloading package universal_tagset to\n",
      "[nltk_data]     C:\\Users\\nguyn\\AppData\\Roaming\\nltk_data...\n",
      "[nltk_data]   Package universal_tagset is already up-to-date!\n"
     ]
    }
   ],
   "source": [
    "import nltk\n",
    "nltk.download('treebank')\n",
    "nltk.download('universal_tagset')\n",
    "nltk_data = list(nltk.corpus.treebank.tagged_sents(tagset='universal'))"
   ]
  },
  {
   "cell_type": "code",
   "execution_count": 3,
   "metadata": {
    "colab": {
     "base_uri": "https://localhost:8080/"
    },
    "id": "3irAtpWyTLU8",
    "outputId": "7cc807e0-84e5-4353-a8c1-f38ae2d39a91",
    "pycharm": {
     "is_executing": true
    }
   },
   "outputs": [
    {
     "output_type": "stream",
     "name": "stdout",
     "text": [
      "Pierre NOUN\nVinken NOUN\n, .\n61 NUM\nyears NOUN\nold ADJ\n, .\nwill VERB\njoin VERB\nthe DET\nboard NOUN\nas ADP\na DET\nnonexecutive ADJ\ndirector NOUN\nNov. NOUN\n29 NUM\n. .\n"
     ]
    }
   ],
   "source": [
    "sent = nltk_data[0]\n",
    "for i in range(len(sent)):\n",
    "    print(sent[i][0],sent[i][1])"
   ]
  },
  {
   "cell_type": "markdown",
   "metadata": {
    "id": "8Cw1JIMvXbCU"
   },
   "source": [
    "# Split data into training and validation set in the ratio 80:20"
   ]
  },
  {
   "cell_type": "code",
   "execution_count": 4,
   "metadata": {
    "id": "bF9p3TFjTLU-",
    "pycharm": {
     "is_executing": true
    }
   },
   "outputs": [],
   "source": [
    "train_set,test_set =train_test_split(nltk_data,train_size=0.80,test_size=0.20,random_state = 101)"
   ]
  },
  {
   "cell_type": "markdown",
   "metadata": {
    "id": "BN3DmX1oXdZx"
   },
   "source": [
    "# Create list of train and test tagged words"
   ]
  },
  {
   "cell_type": "code",
   "execution_count": 5,
   "metadata": {
    "colab": {
     "base_uri": "https://localhost:8080/"
    },
    "id": "ID7ZKik-TLVA",
    "outputId": "44ef5cca-2501-4ec7-c4e0-21c7e0dd5075",
    "pycharm": {
     "is_executing": true
    }
   },
   "outputs": [
    {
     "output_type": "stream",
     "name": "stdout",
     "text": [
      "80310\n20366\n"
     ]
    }
   ],
   "source": [
    "train_tagged_words = [ tup for sent in train_set for tup in sent ]\n",
    "test_tagged_words = [ tup for sent in test_set for tup in sent ]\n",
    "print(len(train_tagged_words))\n",
    "print(len(test_tagged_words))"
   ]
  },
  {
   "cell_type": "markdown",
   "metadata": {
    "id": "NfNko6LdXh2I"
   },
   "source": [
    "# Check some of the tagged words."
   ]
  },
  {
   "cell_type": "code",
   "execution_count": 6,
   "metadata": {
    "colab": {
     "base_uri": "https://localhost:8080/"
    },
    "id": "3lkW61ClTLVB",
    "outputId": "c1f7d91b-b3b7-467f-a455-003b7e8806ff",
    "pycharm": {
     "is_executing": true
    }
   },
   "outputs": [
    {
     "output_type": "execute_result",
     "data": {
      "text/plain": [
       "[('Drink', 'NOUN'),\n",
       " ('Carrier', 'NOUN'),\n",
       " ('Competes', 'VERB'),\n",
       " ('With', 'ADP'),\n",
       " ('Cartons', 'NOUN')]"
      ]
     },
     "metadata": {},
     "execution_count": 6
    }
   ],
   "source": [
    "train_tagged_words[:5]"
   ]
  },
  {
   "cell_type": "code",
   "execution_count": 7,
   "metadata": {
    "colab": {
     "base_uri": "https://localhost:8080/"
    },
    "id": "UARX00uxTLVB",
    "outputId": "2510cf24-4ffb-45c0-8699-a80db555ce14",
    "pycharm": {
     "is_executing": true
    }
   },
   "outputs": [
    {
     "output_type": "stream",
     "name": "stdout",
     "text": [
      "12\n{'PRT', 'PRON', '.', 'X', 'ADP', 'ADV', 'NOUN', 'VERB', 'ADJ', 'NUM', 'CONJ', 'DET'}\n"
     ]
    }
   ],
   "source": [
    "#use set datatype to check how many unique tags are present in training data\n",
    "tags = {tag for word,tag in train_tagged_words}\n",
    "print(len(tags))\n",
    "print(tags)\n",
    " \n",
    "# check total words in vocabulary\n",
    "vocab = {word for word,tag in train_tagged_words}"
   ]
  },
  {
   "cell_type": "markdown",
   "metadata": {
    "id": "7ay9DuWaYZtX"
   },
   "source": [
    "# Compute Emission Probability\n",
    "# P(tj|ti) ->log\n",
    "# P(wi|tj) ->log"
   ]
  },
  {
   "cell_type": "code",
   "execution_count": 8,
   "metadata": {
    "id": "V4mcfQ7JTLVC",
    "pycharm": {
     "is_executing": true
    }
   },
   "outputs": [],
   "source": [
    "def word_given_tag(word, tag, train_bag = train_tagged_words):\n",
    "    tag_list = [pair for pair in train_bag if pair[1]==tag]\n",
    "    count_tag = len(tag_list)#total number of times the passed tag occurred in train_bag\n",
    "    w_given_tag_list = [pair[0] for pair in tag_list if pair[0]==word]\n",
    "#now calculate the total number of times the passed word occurred as the passed tag.\n",
    "    count_w_given_tag = len(w_given_tag_list)\n",
    " \n",
    "     \n",
    "    return (count_w_given_tag, count_tag)"
   ]
  },
  {
   "cell_type": "code",
   "execution_count": 9,
   "metadata": {
    "id": "7azix2sOTLVD",
    "pycharm": {
     "is_executing": true
    }
   },
   "outputs": [],
   "source": [
    "# compute  Transition Probability\n",
    "def t2_given_t1(t2, t1, train_bag = train_tagged_words):\n",
    "    tags = [pair[1] for pair in train_bag]\n",
    "    count_t1 = len([t for t in tags if t==t1])\n",
    "    count_t2_t1 = 0\n",
    "    for index in range(len(tags)-1):\n",
    "        if tags[index]==t1 and tags[index+1] == t2:\n",
    "            count_t2_t1 += 1\n",
    "    return (count_t2_t1, count_t1)"
   ]
  },
  {
   "cell_type": "code",
   "execution_count": 10,
   "metadata": {
    "colab": {
     "base_uri": "https://localhost:8080/"
    },
    "id": "xlgHRNmMTLVF",
    "outputId": "7b76cd8e-e75a-470b-b0d6-3727879a6947",
    "pycharm": {
     "is_executing": true
    }
   },
   "outputs": [
    {
     "output_type": "stream",
     "name": "stdout",
     "text": [
      "[[1.17416831e-03 1.76125243e-02 4.50097844e-02 1.21330721e-02\n  1.95694715e-02 9.39334650e-03 2.50489235e-01 4.01174158e-01\n  8.29745606e-02 5.67514673e-02 2.34833662e-03 1.01369865e-01]\n [1.41230067e-02 6.83371304e-03 4.19134386e-02 8.83826911e-02\n  2.23234631e-02 3.69020514e-02 2.12756261e-01 4.84738052e-01\n  7.06150308e-02 6.83371304e-03 5.01138950e-03 9.56719834e-03]\n [2.78940029e-03 6.87694475e-02 9.23720598e-02 2.56410260e-02\n  9.29084867e-02 5.25694676e-02 2.18538776e-01 8.96899477e-02\n  4.61323895e-02 7.82104954e-02 6.00793920e-02 1.72191828e-01]\n [1.85085520e-01 5.41995019e-02 1.60868734e-01 7.57255405e-02\n  1.42225638e-01 2.57543717e-02 6.16951771e-02 2.06419379e-01\n  1.76821072e-02 3.07514891e-03 1.03786280e-02 5.68902567e-02]\n [1.26550242e-03 6.96026310e-02 3.87243740e-02 3.45482156e-02\n  1.69577319e-02 1.45532778e-02 3.23588967e-01 8.47886596e-03\n  1.07061505e-01 6.32751212e-02 1.01240189e-03 3.20931405e-01]\n [1.47401085e-02 1.20248254e-02 1.39255241e-01 2.28859577e-02\n  1.19472459e-01 8.14584941e-02 3.21955010e-02 3.39022487e-01\n  1.30721495e-01 2.98681147e-02 6.98215654e-03 7.13731572e-02]\n [4.39345129e-02 4.65906132e-03 2.40094051e-01 2.88252197e-02\n  1.76826611e-01 1.68945398e-02 2.62344331e-01 1.49133503e-01\n  1.25838192e-02 9.14395228e-03 4.24540639e-02 1.31063312e-02]\n [3.06629837e-02 3.55432779e-02 3.48066315e-02 2.15930015e-01\n  9.23572779e-02 8.38858187e-02 1.10589318e-01 1.67955801e-01\n  6.63904250e-02 2.28360966e-02 5.43278083e-03 1.33609578e-01]\n [1.14563107e-02 1.94174761e-04 6.60194159e-02 2.09708735e-02\n  8.05825219e-02 5.24271838e-03 6.96893215e-01 1.14563107e-02\n  6.33009672e-02 2.17475723e-02 1.68932043e-02 5.24271838e-03]\n [2.60621198e-02 1.42806140e-03 1.19243130e-01 2.02427700e-01\n  3.74866128e-02 3.57015361e-03 3.51660132e-01 2.07068902e-02\n  3.53445187e-02 1.84219927e-01 1.42806144e-02 3.57015361e-03]\n [4.39077942e-03 6.03732169e-02 3.51262353e-02 9.33040585e-03\n  5.59824370e-02 5.70801310e-02 3.49066973e-01 1.50384188e-01\n  1.13611415e-01 4.06147093e-02 5.48847427e-04 1.23490669e-01]\n [2.87480245e-04 3.30602261e-03 1.73925534e-02 4.51343954e-02\n  9.91806854e-03 1.20741697e-02 6.35906279e-01 4.02472317e-02\n  2.06410810e-01 2.28546783e-02 4.31220367e-04 6.03708485e-03]]\n"
     ]
    }
   ],
   "source": [
    "# creating t x t transition matrix of tags, t= no of tags\n",
    "# Matrix(i, j) represents P(jth tag after the ith tag)\n",
    " \n",
    "tags_matrix = np.zeros((len(tags), len(tags)), dtype='float32')\n",
    "for i, t1 in enumerate(list(tags)):\n",
    "    for j, t2 in enumerate(list(tags)): \n",
    "        tags_matrix[i, j] = t2_given_t1(t2, t1)[0]/t2_given_t1(t2, t1)[1]\n",
    " \n",
    "print(tags_matrix)"
   ]
  },
  {
   "cell_type": "code",
   "execution_count": 11,
   "metadata": {
    "colab": {
     "base_uri": "https://localhost:8080/",
     "height": 399
    },
    "id": "cgiCL2BuTLVG",
    "outputId": "79a4d054-c07b-48b3-d433-7702e62032fc",
    "pycharm": {
     "is_executing": true
    }
   },
   "outputs": [
    {
     "output_type": "display_data",
     "data": {
      "text/plain": "           PRT      PRON         .         X       ADP       ADV      NOUN  \\\nPRT   0.001174  0.017613  0.045010  0.012133  0.019569  0.009393  0.250489   \nPRON  0.014123  0.006834  0.041913  0.088383  0.022323  0.036902  0.212756   \n.     0.002789  0.068769  0.092372  0.025641  0.092908  0.052569  0.218539   \nX     0.185086  0.054200  0.160869  0.075726  0.142226  0.025754  0.061695   \nADP   0.001266  0.069603  0.038724  0.034548  0.016958  0.014553  0.323589   \nADV   0.014740  0.012025  0.139255  0.022886  0.119472  0.081458  0.032196   \nNOUN  0.043935  0.004659  0.240094  0.028825  0.176827  0.016895  0.262344   \nVERB  0.030663  0.035543  0.034807  0.215930  0.092357  0.083886  0.110589   \nADJ   0.011456  0.000194  0.066019  0.020971  0.080583  0.005243  0.696893   \nNUM   0.026062  0.001428  0.119243  0.202428  0.037487  0.003570  0.351660   \nCONJ  0.004391  0.060373  0.035126  0.009330  0.055982  0.057080  0.349067   \nDET   0.000287  0.003306  0.017393  0.045134  0.009918  0.012074  0.635906   \n\n          VERB       ADJ       NUM      CONJ       DET  \nPRT   0.401174  0.082975  0.056751  0.002348  0.101370  \nPRON  0.484738  0.070615  0.006834  0.005011  0.009567  \n.     0.089690  0.046132  0.078210  0.060079  0.172192  \nX     0.206419  0.017682  0.003075  0.010379  0.056890  \nADP   0.008479  0.107062  0.063275  0.001012  0.320931  \nADV   0.339022  0.130721  0.029868  0.006982  0.071373  \nNOUN  0.149134  0.012584  0.009144  0.042454  0.013106  \nVERB  0.167956  0.066390  0.022836  0.005433  0.133610  \nADJ   0.011456  0.063301  0.021748  0.016893  0.005243  \nNUM   0.020707  0.035345  0.184220  0.014281  0.003570  \nCONJ  0.150384  0.113611  0.040615  0.000549  0.123491  \nDET   0.040247  0.206411  0.022855  0.000431  0.006037  ",
      "text/html": "<div>\n<style scoped>\n    .dataframe tbody tr th:only-of-type {\n        vertical-align: middle;\n    }\n\n    .dataframe tbody tr th {\n        vertical-align: top;\n    }\n\n    .dataframe thead th {\n        text-align: right;\n    }\n</style>\n<table border=\"1\" class=\"dataframe\">\n  <thead>\n    <tr style=\"text-align: right;\">\n      <th></th>\n      <th>PRT</th>\n      <th>PRON</th>\n      <th>.</th>\n      <th>X</th>\n      <th>ADP</th>\n      <th>ADV</th>\n      <th>NOUN</th>\n      <th>VERB</th>\n      <th>ADJ</th>\n      <th>NUM</th>\n      <th>CONJ</th>\n      <th>DET</th>\n    </tr>\n  </thead>\n  <tbody>\n    <tr>\n      <th>PRT</th>\n      <td>0.001174</td>\n      <td>0.017613</td>\n      <td>0.045010</td>\n      <td>0.012133</td>\n      <td>0.019569</td>\n      <td>0.009393</td>\n      <td>0.250489</td>\n      <td>0.401174</td>\n      <td>0.082975</td>\n      <td>0.056751</td>\n      <td>0.002348</td>\n      <td>0.101370</td>\n    </tr>\n    <tr>\n      <th>PRON</th>\n      <td>0.014123</td>\n      <td>0.006834</td>\n      <td>0.041913</td>\n      <td>0.088383</td>\n      <td>0.022323</td>\n      <td>0.036902</td>\n      <td>0.212756</td>\n      <td>0.484738</td>\n      <td>0.070615</td>\n      <td>0.006834</td>\n      <td>0.005011</td>\n      <td>0.009567</td>\n    </tr>\n    <tr>\n      <th>.</th>\n      <td>0.002789</td>\n      <td>0.068769</td>\n      <td>0.092372</td>\n      <td>0.025641</td>\n      <td>0.092908</td>\n      <td>0.052569</td>\n      <td>0.218539</td>\n      <td>0.089690</td>\n      <td>0.046132</td>\n      <td>0.078210</td>\n      <td>0.060079</td>\n      <td>0.172192</td>\n    </tr>\n    <tr>\n      <th>X</th>\n      <td>0.185086</td>\n      <td>0.054200</td>\n      <td>0.160869</td>\n      <td>0.075726</td>\n      <td>0.142226</td>\n      <td>0.025754</td>\n      <td>0.061695</td>\n      <td>0.206419</td>\n      <td>0.017682</td>\n      <td>0.003075</td>\n      <td>0.010379</td>\n      <td>0.056890</td>\n    </tr>\n    <tr>\n      <th>ADP</th>\n      <td>0.001266</td>\n      <td>0.069603</td>\n      <td>0.038724</td>\n      <td>0.034548</td>\n      <td>0.016958</td>\n      <td>0.014553</td>\n      <td>0.323589</td>\n      <td>0.008479</td>\n      <td>0.107062</td>\n      <td>0.063275</td>\n      <td>0.001012</td>\n      <td>0.320931</td>\n    </tr>\n    <tr>\n      <th>ADV</th>\n      <td>0.014740</td>\n      <td>0.012025</td>\n      <td>0.139255</td>\n      <td>0.022886</td>\n      <td>0.119472</td>\n      <td>0.081458</td>\n      <td>0.032196</td>\n      <td>0.339022</td>\n      <td>0.130721</td>\n      <td>0.029868</td>\n      <td>0.006982</td>\n      <td>0.071373</td>\n    </tr>\n    <tr>\n      <th>NOUN</th>\n      <td>0.043935</td>\n      <td>0.004659</td>\n      <td>0.240094</td>\n      <td>0.028825</td>\n      <td>0.176827</td>\n      <td>0.016895</td>\n      <td>0.262344</td>\n      <td>0.149134</td>\n      <td>0.012584</td>\n      <td>0.009144</td>\n      <td>0.042454</td>\n      <td>0.013106</td>\n    </tr>\n    <tr>\n      <th>VERB</th>\n      <td>0.030663</td>\n      <td>0.035543</td>\n      <td>0.034807</td>\n      <td>0.215930</td>\n      <td>0.092357</td>\n      <td>0.083886</td>\n      <td>0.110589</td>\n      <td>0.167956</td>\n      <td>0.066390</td>\n      <td>0.022836</td>\n      <td>0.005433</td>\n      <td>0.133610</td>\n    </tr>\n    <tr>\n      <th>ADJ</th>\n      <td>0.011456</td>\n      <td>0.000194</td>\n      <td>0.066019</td>\n      <td>0.020971</td>\n      <td>0.080583</td>\n      <td>0.005243</td>\n      <td>0.696893</td>\n      <td>0.011456</td>\n      <td>0.063301</td>\n      <td>0.021748</td>\n      <td>0.016893</td>\n      <td>0.005243</td>\n    </tr>\n    <tr>\n      <th>NUM</th>\n      <td>0.026062</td>\n      <td>0.001428</td>\n      <td>0.119243</td>\n      <td>0.202428</td>\n      <td>0.037487</td>\n      <td>0.003570</td>\n      <td>0.351660</td>\n      <td>0.020707</td>\n      <td>0.035345</td>\n      <td>0.184220</td>\n      <td>0.014281</td>\n      <td>0.003570</td>\n    </tr>\n    <tr>\n      <th>CONJ</th>\n      <td>0.004391</td>\n      <td>0.060373</td>\n      <td>0.035126</td>\n      <td>0.009330</td>\n      <td>0.055982</td>\n      <td>0.057080</td>\n      <td>0.349067</td>\n      <td>0.150384</td>\n      <td>0.113611</td>\n      <td>0.040615</td>\n      <td>0.000549</td>\n      <td>0.123491</td>\n    </tr>\n    <tr>\n      <th>DET</th>\n      <td>0.000287</td>\n      <td>0.003306</td>\n      <td>0.017393</td>\n      <td>0.045134</td>\n      <td>0.009918</td>\n      <td>0.012074</td>\n      <td>0.635906</td>\n      <td>0.040247</td>\n      <td>0.206411</td>\n      <td>0.022855</td>\n      <td>0.000431</td>\n      <td>0.006037</td>\n    </tr>\n  </tbody>\n</table>\n</div>"
     },
     "metadata": {}
    }
   ],
   "source": [
    "# convert the matrix to a df for better readability\n",
    "#the table is same as the transition table shown in section 3 of article\n",
    "tags_df = pd.DataFrame(tags_matrix, columns = list(tags), index=list(tags))\n",
    "display(tags_df)"
   ]
  },
  {
   "cell_type": "markdown",
   "metadata": {
    "id": "oNwW3oajYmBa"
   },
   "source": [
    "# Viterbi Algorithm"
   ]
  },
  {
   "cell_type": "code",
   "execution_count": 12,
   "metadata": {
    "id": "FYkABEltTLVH",
    "pycharm": {
     "is_executing": true
    }
   },
   "outputs": [],
   "source": [
    "def Viterbi(words, train_bag = train_tagged_words):\n",
    "    state = []\n",
    "    T = list(set([pair[1] for pair in train_bag]))\n",
    "     \n",
    "    for key, word in enumerate(words):\n",
    "        #initialise list of probability column for a given observation\n",
    "        p = [] \n",
    "        for tag in T:\n",
    "            if key == 0:\n",
    "                transition_p = tags_df.loc['.', tag]\n",
    "            else:\n",
    "                transition_p = tags_df.loc[state[-1], tag]\n",
    "                 \n",
    "            # compute emission and state probabilities\n",
    "            emission_p = word_given_tag(words[key], tag)[0]/word_given_tag(words[key], tag)[1]\n",
    "            state_probability = emission_p * transition_p    \n",
    "            p.append(state_probability)\n",
    "             \n",
    "        pmax = max(p)\n",
    "        # getting state for which probability is maximum\n",
    "        state_max = T[p.index(pmax)] \n",
    "        state.append(state_max)\n",
    "    return list(zip(words, state))"
   ]
  },
  {
   "cell_type": "code",
   "execution_count": 13,
   "metadata": {
    "id": "kQ6XnjXvTLVI",
    "pycharm": {
     "is_executing": true
    }
   },
   "outputs": [],
   "source": [
    "# Let's test our Viterbi algorithm on a few sample sentences of test dataset\n",
    "random.seed(1234)      #define a random seed to get same sentences when run multiple times\n",
    " \n",
    "# choose random 10 numbers\n",
    "rndom = [random.randint(1,len(test_set)) for x in range(10)]\n",
    " \n",
    "# list of 10 sents on which we test the model\n",
    "test_run = [test_set[i] for i in rndom]\n",
    " \n",
    "# list of tagged words\n",
    "test_run_base = [tup for sent in test_run for tup in sent]\n",
    " \n",
    "# list of untagged words\n",
    "test_tagged_words = [tup[0] for sent in test_run for tup in sent]"
   ]
  },
  {
   "cell_type": "code",
   "execution_count": 14,
   "metadata": {
    "colab": {
     "base_uri": "https://localhost:8080/"
    },
    "id": "IxvFU4B0TLVI",
    "outputId": "6e9d3bf4-2dd9-4759-cbf7-c3cd93cfe785",
    "pycharm": {
     "is_executing": true
    }
   },
   "outputs": [
    {
     "output_type": "stream",
     "name": "stdout",
     "text": [
      "Time taken in seconds:  68.32021403312683\nViterbi Algorithm Accuracy:  93.77990430622009\n"
     ]
    }
   ],
   "source": [
    "#Here We will only test 10 sentences to check the accuracy\n",
    "#as testing the whole training set takes huge amount of time\n",
    "start = time.time()\n",
    "tagged_seq = Viterbi(test_tagged_words)\n",
    "end = time.time()\n",
    "difference = end-start\n",
    " \n",
    "print(\"Time taken in seconds: \", difference)\n",
    " \n",
    "# accuracy\n",
    "check = [i for i, j in zip(tagged_seq, test_run_base) if i == j] \n",
    "# accuracy\n",
    "# check = [i for i, j in zip(test_tagged_words, test_untagged_words) if i == j] \n",
    "accuracy = len(check)/len(tagged_seq)\n",
    "print('Viterbi Algorithm Accuracy: ',accuracy*100)"
   ]
  },
  {
   "cell_type": "code",
   "execution_count": 15,
   "metadata": {
    "id": "awsbVcguTLVL",
    "pycharm": {
     "is_executing": true
    }
   },
   "outputs": [],
   "source": [
    "#To improve the performance,we specify a rule base tagger for unknown words \n",
    "# specify patterns for tagging\n",
    "patterns = [\n",
    "    (r'.*ing$', 'VERB'),              # gerund\n",
    "    (r'.*ed$', 'VERB'),               # past tense \n",
    "    (r'.*es$', 'VERB'),               # verb    \n",
    "    (r'.*\\'s$', 'NOUN'),              # possessive nouns\n",
    "    (r'.*s$', 'NOUN'),                # plural nouns\n",
    "    (r'\\*T?\\*?-[0-9]+$', 'X'),        # X\n",
    "    (r'^-?[0-9]+(.[0-9]+)?$', 'NUM'), # cardinal numbers\n",
    "    (r'.*', 'NOUN')                   # nouns\n",
    "]\n",
    " \n",
    "# rule based tagger\n",
    "rule_based_tagger = nltk.RegexpTagger(patterns)"
   ]
  },
  {
   "cell_type": "code",
   "execution_count": 16,
   "metadata": {
    "id": "agOyK1JRTLVM",
    "pycharm": {
     "is_executing": true
    }
   },
   "outputs": [],
   "source": [
    "#modified Viterbi to include rule based tagger in it\n",
    "def Viterbi_rule_based(words, train_bag = train_tagged_words):\n",
    "    state = []\n",
    "    T = list(set([pair[1] for pair in train_bag]))\n",
    "     \n",
    "    for key, word in enumerate(words):\n",
    "        #initialise list of probability column for a given observation\n",
    "        p = [] \n",
    "        for tag in T:\n",
    "            if key == 0:\n",
    "                transition_p = tags_df.loc['.', tag]\n",
    "            else:\n",
    "                transition_p = tags_df.loc[state[-1], tag]\n",
    "                 \n",
    "            # compute emission and state probabilities\n",
    "            emission_p = word_given_tag(words[key], tag)[0]/word_given_tag(words[key], tag)[1]\n",
    "            state_probability = emission_p * transition_p    \n",
    "            p.append(state_probability)\n",
    "             \n",
    "        pmax = max(p)\n",
    "        state_max = rule_based_tagger.tag([word])[0][1]       \n",
    "        \n",
    "         \n",
    "        if(pmax==0):\n",
    "            state_max = rule_based_tagger.tag([word])[0][1] # assign based on rule based tagger\n",
    "        else:\n",
    "            if state_max != 'X':\n",
    "                # getting state for which probability is maximum\n",
    "                state_max = T[p.index(pmax)]                \n",
    "             \n",
    "         \n",
    "        state.append(state_max)\n",
    "    return list(zip(words, state))"
   ]
  },
  {
   "cell_type": "markdown",
   "metadata": {
    "id": "jOcBJcvqYt47"
   },
   "source": [
    "# Test accuracy on subset of test data \n"
   ]
  },
  {
   "cell_type": "code",
   "execution_count": 17,
   "metadata": {
    "colab": {
     "base_uri": "https://localhost:8080/"
    },
    "id": "G6OZAh4JTLVP",
    "outputId": "f4c171f3-5a83-4038-fd8a-8ff5436074dc",
    "pycharm": {
     "is_executing": true
    }
   },
   "outputs": [
    {
     "output_type": "stream",
     "name": "stdout",
     "text": [
      "Time taken in seconds:  74.15143156051636\nViterbi Algorithm Accuracy:  97.1291866028708\n"
     ]
    }
   ],
   "source": [
    "start = time.time()\n",
    "tagged_seq = Viterbi_rule_based(test_tagged_words)\n",
    "end = time.time()\n",
    "difference = end-start\n",
    " \n",
    "print(\"Time taken in seconds: \", difference)\n",
    " \n",
    "# accuracy\n",
    "check = [i for i, j in zip(tagged_seq, test_run_base) if i == j] \n",
    " \n",
    "accuracy = len(check)/len(tagged_seq)\n",
    "print('Viterbi Algorithm Accuracy: ',accuracy*100)"
   ]
  },
  {
   "cell_type": "code",
   "execution_count": 18,
   "metadata": {
    "colab": {
     "base_uri": "https://localhost:8080/"
    },
    "id": "9Vn9iMg9TLVQ",
    "outputId": "4a2bb9c0-94cb-4d94-974e-f2053be442d5",
    "pycharm": {
     "is_executing": true
    }
   },
   "outputs": [
    {
     "output_type": "stream",
     "name": "stdout",
     "text": [
      "[('Will', 'NOUN'), ('can', 'VERB'), ('see', 'VERB'), ('Marry', 'NOUN')]\n[('Will', 'PRT'), ('can', 'VERB'), ('see', 'VERB'), ('Marry', 'PRT')]\n"
     ]
    }
   ],
   "source": [
    "#Check how a sentence is tagged by the two POS taggers\n",
    "#and compare them\n",
    "test_sent=\"Will can see Marry\"\n",
    "pred_tags_rule=Viterbi_rule_based(test_sent.split())\n",
    "pred_tags_withoutRules= Viterbi(test_sent.split())\n",
    "print(pred_tags_rule)\n",
    "print(pred_tags_withoutRules)\n",
    "#Will and Marry are tagged as NUM as they are unknown words for Viterbi Algorithm "
   ]
  }
 ],
 "metadata": {
  "colab": {
   "include_colab_link": true,
   "name": "POS_tagging_by_HMM.ipynb",
   "provenance": []
  },
  "kernelspec": {
   "name": "pycharm-d518f270",
   "language": "python",
   "display_name": "PyCharm (Natural-Language-Processing)"
  },
  "language_info": {
   "codemirror_mode": {
    "name": "ipython",
    "version": 3
   },
   "file_extension": ".py",
   "mimetype": "text/x-python",
   "name": "python",
   "nbconvert_exporter": "python",
   "pygments_lexer": "ipython3",
   "version": "3.8.5"
  }
 },
 "nbformat": 4,
 "nbformat_minor": 1
}