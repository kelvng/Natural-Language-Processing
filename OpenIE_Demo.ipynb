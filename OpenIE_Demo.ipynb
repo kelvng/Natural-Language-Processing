{
  "nbformat": 4,
  "nbformat_minor": 0,
  "metadata": {
    "kernelspec": {
      "display_name": "Python 3",
      "language": "python",
      "name": "python3"
    },
    "language_info": {
      "codemirror_mode": {
        "name": "ipython",
        "version": 3
      },
      "file_extension": ".py",
      "mimetype": "text/x-python",
      "name": "python",
      "nbconvert_exporter": "python",
      "pygments_lexer": "ipython3",
      "version": "3.7.3"
    },
    "colab": {
      "name": "OpenIE-Demo.ipynb",
      "provenance": [],
      "include_colab_link": true
    }
  },
  "cells": [
    {
      "cell_type": "markdown",
      "metadata": {
        "id": "view-in-github",
        "colab_type": "text"
      },
      "source": [
        "<a href=\"https://colab.research.google.com/github/nthanhkhang/Natural-Language-Processing/blob/main/OpenIE_Demo.ipynb\" target=\"_parent\"><img src=\"https://colab.research.google.com/assets/colab-badge.svg\" alt=\"Open In Colab\"/></a>"
      ]
    },
    {
      "cell_type": "markdown",
      "metadata": {
        "id": "pbBwYjVC-wB0"
      },
      "source": [
        "# Ensure that your java version >= 1.8"
      ]
    },
    {
      "cell_type": "code",
      "metadata": {
        "colab": {
          "base_uri": "https://localhost:8080/"
        },
        "id": "DmG1SUjB-wB5",
        "outputId": "2ee3ce74-06d5-4c43-936c-a259ac26b692"
      },
      "source": [
        "!java -version"
      ],
      "execution_count": 18,
      "outputs": [
        {
          "output_type": "stream",
          "text": [
            "openjdk version \"11.0.10\" 2021-01-19\n",
            "OpenJDK Runtime Environment (build 11.0.10+9-Ubuntu-0ubuntu1.18.04)\n",
            "OpenJDK 64-Bit Server VM (build 11.0.10+9-Ubuntu-0ubuntu1.18.04, mixed mode, sharing)\n"
          ],
          "name": "stdout"
        }
      ]
    },
    {
      "cell_type": "markdown",
      "metadata": {
        "id": "lNSriRf8-wB9"
      },
      "source": [
        "# Downloading Stanford CoreNLP (375mb, quite heavy) and unzip it"
      ]
    },
    {
      "cell_type": "code",
      "metadata": {
        "colab": {
          "base_uri": "https://localhost:8080/"
        },
        "id": "lPiREn4x-wB-",
        "outputId": "c0291feb-19f0-46dd-8b39-fbd2efe65f78"
      },
      "source": [
        "!wget http://nlp.stanford.edu/software/stanford-corenlp-full-2018-10-05.zip"
      ],
      "execution_count": 19,
      "outputs": [
        {
          "output_type": "stream",
          "text": [
            "--2021-02-23 13:08:35--  http://nlp.stanford.edu/software/stanford-corenlp-full-2018-10-05.zip\n",
            "Resolving nlp.stanford.edu (nlp.stanford.edu)... 171.64.67.140\n",
            "Connecting to nlp.stanford.edu (nlp.stanford.edu)|171.64.67.140|:80... connected.\n",
            "HTTP request sent, awaiting response... 302 Found\n",
            "Location: https://nlp.stanford.edu/software/stanford-corenlp-full-2018-10-05.zip [following]\n",
            "--2021-02-23 13:08:35--  https://nlp.stanford.edu/software/stanford-corenlp-full-2018-10-05.zip\n",
            "Connecting to nlp.stanford.edu (nlp.stanford.edu)|171.64.67.140|:443... connected.\n",
            "HTTP request sent, awaiting response... 200 OK\n",
            "Length: 393239982 (375M) [application/zip]\n",
            "Saving to: ‘stanford-corenlp-full-2018-10-05.zip.1’\n",
            "\n",
            "stanford-corenlp-fu 100%[===================>] 375.02M  1.88MB/s    in 2m 7s   \n",
            "\n",
            "2021-02-23 13:10:43 (2.95 MB/s) - ‘stanford-corenlp-full-2018-10-05.zip.1’ saved [393239982/393239982]\n",
            "\n"
          ],
          "name": "stdout"
        }
      ]
    },
    {
      "cell_type": "code",
      "metadata": {
        "collapsed": true,
        "colab": {
          "base_uri": "https://localhost:8080/"
        },
        "id": "WgannEuV-wB-",
        "outputId": "40a6f404-6638-4d22-b2d9-dc2dedef958c"
      },
      "source": [
        "!unzip stanford-corenlp-full-2018-10-05.zip -d ./ && mv ./stanford-corenlp-full-2018-10-05 ./corenlp"
      ],
      "execution_count": 20,
      "outputs": [
        {
          "output_type": "stream",
          "text": [
            "Archive:  stanford-corenlp-full-2018-10-05.zip\n",
            "   creating: ./stanford-corenlp-full-2018-10-05/\n",
            "  inflating: ./stanford-corenlp-full-2018-10-05/jaxb-core-2.3.0.1-sources.jar  \n",
            "  inflating: ./stanford-corenlp-full-2018-10-05/xom-1.2.10-src.jar  \n",
            "  inflating: ./stanford-corenlp-full-2018-10-05/CoreNLP-to-HTML.xsl  \n",
            "  inflating: ./stanford-corenlp-full-2018-10-05/README.txt  \n",
            "  inflating: ./stanford-corenlp-full-2018-10-05/jollyday-0.4.9-sources.jar  \n",
            "  inflating: ./stanford-corenlp-full-2018-10-05/LIBRARY-LICENSES  \n",
            "   creating: ./stanford-corenlp-full-2018-10-05/sutime/\n",
            "  inflating: ./stanford-corenlp-full-2018-10-05/sutime/british.sutime.txt  \n",
            "  inflating: ./stanford-corenlp-full-2018-10-05/sutime/defs.sutime.txt  \n",
            "  inflating: ./stanford-corenlp-full-2018-10-05/sutime/spanish.sutime.txt  \n",
            "  inflating: ./stanford-corenlp-full-2018-10-05/sutime/english.sutime.txt  \n",
            "  inflating: ./stanford-corenlp-full-2018-10-05/sutime/english.holidays.sutime.txt  \n",
            " extracting: ./stanford-corenlp-full-2018-10-05/ejml-0.23-src.zip  \n",
            "  inflating: ./stanford-corenlp-full-2018-10-05/input.txt.xml  \n",
            "  inflating: ./stanford-corenlp-full-2018-10-05/build.xml  \n",
            "  inflating: ./stanford-corenlp-full-2018-10-05/pom.xml  \n",
            "  inflating: ./stanford-corenlp-full-2018-10-05/stanford-corenlp-3.9.2-javadoc.jar  \n",
            "   creating: ./stanford-corenlp-full-2018-10-05/tokensregex/\n",
            "  inflating: ./stanford-corenlp-full-2018-10-05/tokensregex/color.input.txt  \n",
            "  inflating: ./stanford-corenlp-full-2018-10-05/tokensregex/retokenize.txt  \n",
            "  inflating: ./stanford-corenlp-full-2018-10-05/tokensregex/color.properties  \n",
            "  inflating: ./stanford-corenlp-full-2018-10-05/tokensregex/color.rules.txt  \n",
            "  inflating: ./stanford-corenlp-full-2018-10-05/javax.json-api-1.0-sources.jar  \n",
            "  inflating: ./stanford-corenlp-full-2018-10-05/jaxb-api-2.4.0-b180830.0359-sources.jar  \n",
            "  inflating: ./stanford-corenlp-full-2018-10-05/stanford-corenlp-3.9.2-models.jar  \n",
            "  inflating: ./stanford-corenlp-full-2018-10-05/protobuf.jar  \n",
            "  inflating: ./stanford-corenlp-full-2018-10-05/javax.activation-api-1.2.0.jar  \n",
            "  inflating: ./stanford-corenlp-full-2018-10-05/StanfordDependenciesManual.pdf  \n",
            "   creating: ./stanford-corenlp-full-2018-10-05/patterns/\n",
            "  inflating: ./stanford-corenlp-full-2018-10-05/patterns/example.properties  \n",
            " extracting: ./stanford-corenlp-full-2018-10-05/patterns/otherpeople.txt  \n",
            " extracting: ./stanford-corenlp-full-2018-10-05/patterns/goldplaces.txt  \n",
            "  inflating: ./stanford-corenlp-full-2018-10-05/patterns/stopwords.txt  \n",
            "  inflating: ./stanford-corenlp-full-2018-10-05/patterns/presidents.txt  \n",
            "  inflating: ./stanford-corenlp-full-2018-10-05/patterns/names.txt  \n",
            " extracting: ./stanford-corenlp-full-2018-10-05/patterns/places.txt  \n",
            "  inflating: ./stanford-corenlp-full-2018-10-05/patterns/goldnames.txt  \n",
            "  inflating: ./stanford-corenlp-full-2018-10-05/slf4j-simple.jar  \n",
            "  inflating: ./stanford-corenlp-full-2018-10-05/stanford-corenlp-3.9.2-sources.jar  \n",
            "  inflating: ./stanford-corenlp-full-2018-10-05/input.txt  \n",
            "  inflating: ./stanford-corenlp-full-2018-10-05/joda-time.jar  \n",
            "  inflating: ./stanford-corenlp-full-2018-10-05/xom.jar  \n",
            "  inflating: ./stanford-corenlp-full-2018-10-05/jaxb-impl-2.4.0-b180830.0438-sources.jar  \n",
            "  inflating: ./stanford-corenlp-full-2018-10-05/StanfordCoreNlpDemo.java  \n",
            "  inflating: ./stanford-corenlp-full-2018-10-05/jaxb-core-2.3.0.1.jar  \n",
            "  inflating: ./stanford-corenlp-full-2018-10-05/RESOURCE-LICENSES  \n",
            "  inflating: ./stanford-corenlp-full-2018-10-05/javax.activation-api-1.2.0-sources.jar  \n",
            "  inflating: ./stanford-corenlp-full-2018-10-05/slf4j-api.jar  \n",
            "  inflating: ./stanford-corenlp-full-2018-10-05/pom-java-11.xml  \n",
            "  inflating: ./stanford-corenlp-full-2018-10-05/ejml-0.23.jar  \n",
            "  inflating: ./stanford-corenlp-full-2018-10-05/javax.json.jar  \n",
            "  inflating: ./stanford-corenlp-full-2018-10-05/Makefile  \n",
            "  inflating: ./stanford-corenlp-full-2018-10-05/corenlp.sh  \n",
            "  inflating: ./stanford-corenlp-full-2018-10-05/joda-time-2.9-sources.jar  \n",
            "  inflating: ./stanford-corenlp-full-2018-10-05/jaxb-api-2.4.0-b180830.0359.jar  \n",
            "  inflating: ./stanford-corenlp-full-2018-10-05/jollyday.jar  \n",
            "  inflating: ./stanford-corenlp-full-2018-10-05/ShiftReduceDemo.java  \n",
            "  inflating: ./stanford-corenlp-full-2018-10-05/jaxb-impl-2.4.0-b180830.0438.jar  \n",
            "  inflating: ./stanford-corenlp-full-2018-10-05/stanford-corenlp-3.9.2.jar  \n",
            "  inflating: ./stanford-corenlp-full-2018-10-05/SemgrexDemo.java  \n",
            "  inflating: ./stanford-corenlp-full-2018-10-05/LICENSE.txt  \n"
          ],
          "name": "stdout"
        }
      ]
    },
    {
      "cell_type": "markdown",
      "metadata": {
        "id": "xQBkyYH1-wB_"
      },
      "source": [
        "# Launch corenlp server in background"
      ]
    },
    {
      "cell_type": "code",
      "metadata": {
        "colab": {
          "base_uri": "https://localhost:8080/"
        },
        "id": "L97JyBN--wB_",
        "outputId": "a14fd44e-7a15-4259-aa13-0edb7ae9a975"
      },
      "source": [
        "import os\n",
        "os.system('cd ./corenlp/ && java -mx4g -cp \"*\" edu.stanford.nlp.pipeline.StanfordCoreNLPServer -port 9000 -timeout 15000 &')"
      ],
      "execution_count": 21,
      "outputs": [
        {
          "output_type": "execute_result",
          "data": {
            "text/plain": [
              "0"
            ]
          },
          "metadata": {
            "tags": []
          },
          "execution_count": 21
        }
      ]
    },
    {
      "cell_type": "markdown",
      "metadata": {
        "id": "j_76eXnu-wCA"
      },
      "source": [
        "# Test if it works (should return some json)"
      ]
    },
    {
      "cell_type": "code",
      "metadata": {
        "collapsed": true,
        "colab": {
          "base_uri": "https://localhost:8080/"
        },
        "id": "wUc4dzu_-wCA",
        "outputId": "19f1ccb3-82fb-4099-b1ac-e5c225a0077a"
      },
      "source": [
        "!curl --data 'The quick brown fox jumped over the lazy dog.' 'http://localhost:9000/?properties={%22annotators%22%3A%22tokenize%2Cssplit%2Cpos%22%2C%22outputFormat%22%3A%22json%22}' -o -"
      ],
      "execution_count": 22,
      "outputs": [
        {
          "output_type": "stream",
          "text": [
            "curl: (7) Failed to connect to localhost port 9000: Connection refused\n"
          ],
          "name": "stdout"
        }
      ]
    },
    {
      "cell_type": "markdown",
      "metadata": {
        "id": "4VpTRkS4-wCB"
      },
      "source": [
        "# Installing Py-CoreNLP lib"
      ]
    },
    {
      "cell_type": "code",
      "metadata": {
        "colab": {
          "base_uri": "https://localhost:8080/"
        },
        "id": "1Mvijg0--wCB",
        "outputId": "ced0a509-0ffe-42f4-f7b1-a568de28da1e"
      },
      "source": [
        "!pip install pycorenlp"
      ],
      "execution_count": 23,
      "outputs": [
        {
          "output_type": "stream",
          "text": [
            "Requirement already satisfied: pycorenlp in /usr/local/lib/python3.6/dist-packages (0.3.0)\n",
            "Requirement already satisfied: requests in /usr/local/lib/python3.6/dist-packages (from pycorenlp) (2.23.0)\n",
            "Requirement already satisfied: certifi>=2017.4.17 in /usr/local/lib/python3.6/dist-packages (from requests->pycorenlp) (2020.12.5)\n",
            "Requirement already satisfied: urllib3!=1.25.0,!=1.25.1,<1.26,>=1.21.1 in /usr/local/lib/python3.6/dist-packages (from requests->pycorenlp) (1.24.3)\n",
            "Requirement already satisfied: chardet<4,>=3.0.2 in /usr/local/lib/python3.6/dist-packages (from requests->pycorenlp) (3.0.4)\n",
            "Requirement already satisfied: idna<3,>=2.5 in /usr/local/lib/python3.6/dist-packages (from requests->pycorenlp) (2.10)\n"
          ],
          "name": "stdout"
        }
      ]
    },
    {
      "cell_type": "code",
      "metadata": {
        "id": "9t2j15So-wCC"
      },
      "source": [
        "from pycorenlp import StanfordCoreNLP\n",
        "from pprint import pprint"
      ],
      "execution_count": 24,
      "outputs": []
    },
    {
      "cell_type": "code",
      "metadata": {
        "id": "HIEfWhV8-wCC"
      },
      "source": [
        "nlp = StanfordCoreNLP('http://corenlp.run/')"
      ],
      "execution_count": 25,
      "outputs": []
    },
    {
      "cell_type": "code",
      "metadata": {
        "id": "JLS8tzBm-wCC"
      },
      "source": [
        "text = ('Pusheen and Smitha walked along the beach. '\n",
        "        'Pusheen wanted to surf, but fell off the surfboard. '\n",
        "        'The quick brown fox jumped over the lazy dog. '\n",
        "        'Barack Obama was born in Hawaii.  '\n",
        "        'He was elected president in 2008. ')\n",
        "output = nlp.annotate(text, properties = {\n",
        "  'annotators': 'tokenize,ssplit,pos,depparse,natlog,openie',\n",
        "  'outputFormat': 'json'\n",
        "})"
      ],
      "execution_count": 26,
      "outputs": []
    },
    {
      "cell_type": "code",
      "metadata": {
        "colab": {
          "base_uri": "https://localhost:8080/"
        },
        "id": "nvqqQSRA-wCD",
        "outputId": "3b01e3ba-0cfa-4f03-a78b-0d0d5e6ca8a8"
      },
      "source": [
        "for sentence in output['sentences']:\n",
        "    print(\"=\"*50)\n",
        "    print(f\"Sentence: {' '.join([x['word'] for x in sentence['tokens']])}\")\n",
        "    print(\"-\"*20)\n",
        "    print(\"IE triplets:\")\n",
        "    print(\"-\"*20)\n",
        "    for triplet in sentence['openie']:\n",
        "        print(f\"{triplet['subject']:^20} -> {triplet['relation']:^14} -> {triplet['object']}\")"
      ],
      "execution_count": 27,
      "outputs": [
        {
          "output_type": "stream",
          "text": [
            "==================================================\n",
            "Sentence: Pusheen and Smitha walked along the beach .\n",
            "--------------------\n",
            "IE triplets:\n",
            "--------------------\n",
            "      Pusheen        ->  walked along  -> beach\n",
            "       Smitha        ->  walked along  -> beach\n",
            "==================================================\n",
            "Sentence: Pusheen wanted to surf , but fell off the surfboard .\n",
            "--------------------\n",
            "IE triplets:\n",
            "--------------------\n",
            "      Pusheen        ->    fell off    -> surfboard\n",
            "==================================================\n",
            "Sentence: The quick brown fox jumped over the lazy dog .\n",
            "--------------------\n",
            "IE triplets:\n",
            "--------------------\n",
            "  quick brown fox    ->  jumped over   -> lazy dog\n",
            "        fox          ->  jumped over   -> dog\n",
            "  quick brown fox    ->  jumped over   -> dog\n",
            "     quick fox       ->  jumped over   -> dog\n",
            "     brown fox       ->  jumped over   -> lazy dog\n",
            "     brown fox       ->  jumped over   -> dog\n",
            "     quick fox       ->  jumped over   -> lazy dog\n",
            "        fox          ->  jumped over   -> lazy dog\n",
            "==================================================\n",
            "Sentence: Barack Obama was born in Hawaii .\n",
            "--------------------\n",
            "IE triplets:\n",
            "--------------------\n",
            "    Barack Obama     ->      was       -> born\n",
            "    Barack Obama     ->  was born in   -> Hawaii\n",
            "==================================================\n",
            "Sentence: He was elected president in 2008 .\n",
            "--------------------\n",
            "IE triplets:\n",
            "--------------------\n",
            "         He          ->  was elected   -> president\n",
            "         He          -> was elected president in -> 2008\n"
          ],
          "name": "stdout"
        }
      ]
    }
  ]
}